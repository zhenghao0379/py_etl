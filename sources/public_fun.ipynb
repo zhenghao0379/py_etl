{
 "cells": [
  {
   "cell_type": "markdown",
   "metadata": {},
   "source": [
    "# 公共函数"
   ]
  },
  {
   "cell_type": "markdown",
   "metadata": {},
   "source": [
    "## 百度地图API"
   ]
  },
  {
   "cell_type": "code",
   "execution_count": 1,
   "metadata": {},
   "outputs": [],
   "source": [
    "AK = \"eCMzKQzCMnunc3R9Gt1gGMQsL0R5PqpV\"\n",
    "\n",
    "def get_city_api(AK, lng, lat):\n",
    "    url = \"http://api.map.baidu.com/reverse_geocoding/v3/?\"\n",
    "    ak = \"ak=\" + AK\n",
    "    output = \"&output=json\"\n",
    "    coordtype = \"&coordtype=wgs84ll\"\n",
    "    location = \"&location=\" + str(lat) + \",\" + str(lng)\n",
    "    \n",
    "    url_all = url + ak + output + coordtype + location\n",
    "    print(url_all)\n",
    "    \n",
    "    response = requests.get(url = url_all)\n",
    "    \n",
    "    if response.status_code == 200:\n",
    "        try:\n",
    "            # time.sleep(0.25)\n",
    "            output = response.json()\n",
    "            return output\n",
    "        except Exception as e:\n",
    "            print(\"Exception in amp_geocode\",e)\n",
    "            time.sleep(5)\n",
    "            return None\n",
    "    else:\n",
    "        print(\"========>\", response.status_code)\n",
    "        time.sleep(5)\n",
    "        return None"
   ]
  },
  {
   "cell_type": "code",
   "execution_count": null,
   "metadata": {},
   "outputs": [],
   "source": []
  }
 ],
 "metadata": {
  "kernelspec": {
   "display_name": "Python 3",
   "language": "python",
   "name": "python3"
  },
  "language_info": {
   "codemirror_mode": {
    "name": "ipython",
    "version": 3
   },
   "file_extension": ".py",
   "mimetype": "text/x-python",
   "name": "python",
   "nbconvert_exporter": "python",
   "pygments_lexer": "ipython3",
   "version": "3.7.3"
  }
 },
 "nbformat": 4,
 "nbformat_minor": 2
}
