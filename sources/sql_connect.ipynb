{
 "cells": [
  {
   "cell_type": "markdown",
   "metadata": {},
   "source": [
    "# 数据库连接"
   ]
  },
  {
   "cell_type": "code",
   "execution_count": 1,
   "metadata": {},
   "outputs": [
    {
     "data": {
      "text/plain": [
       "'D:\\\\My work\\\\Python\\\\py_etl'"
      ]
     },
     "execution_count": 1,
     "metadata": {},
     "output_type": "execute_result"
    }
   ],
   "source": [
    "import pandas as pd\n",
    "import mysql.connector\n",
    "import os\n",
    "os.chdir(\"..\")\n",
    "os.getcwd()"
   ]
  },
  {
   "cell_type": "code",
   "execution_count": 2,
   "metadata": {},
   "outputs": [],
   "source": [
    "# 选择数据库账户 \n",
    "\n",
    "def select_sql_user(name=\"tinydata\"):\n",
    "    \n",
    "    output = {\n",
    "        \"host\":db.loc[db[\"name\"] == name,\"host\"].item(),\n",
    "        \"port\":db.loc[db[\"name\"] == name,\"port\"].item(),\n",
    "        \"user\":db.loc[db[\"name\"] == name,\"name\"].item(),\n",
    "        \"password\":db.loc[db[\"name\"] == name,\"password\"].item(),\n",
    "    }\n",
    "    return output"
   ]
  },
  {
   "cell_type": "code",
   "execution_count": 3,
   "metadata": {},
   "outputs": [],
   "source": [
    "# 创建链接\n",
    "\n",
    "def mysql_on(db = \"\"):\n",
    "    mysql_user = select_sql_user(name=\"test\")\n",
    "\n",
    "    conn = mysql.connector.connect(\n",
    "        host=mysql_user[\"host\"],\n",
    "        user=mysql_user[\"user\"],\n",
    "        passwd=mysql_user[\"password\"],\n",
    "        database=db\n",
    "    )\n",
    "    return conn"
   ]
  },
  {
   "cell_type": "code",
   "execution_count": 4,
   "metadata": {
    "scrolled": true
   },
   "outputs": [
    {
     "data": {
      "text/plain": [
       "<mysql.connector.connection.MySQLConnection at 0x21bdf2f2ac8>"
      ]
     },
     "execution_count": 4,
     "metadata": {},
     "output_type": "execute_result"
    }
   ],
   "source": [
    "mysql_on(\"sakila\")"
   ]
  },
  {
   "cell_type": "code",
   "execution_count": null,
   "metadata": {},
   "outputs": [],
   "source": []
  }
 ],
 "metadata": {
  "kernelspec": {
   "display_name": "Python 3",
   "language": "python",
   "name": "python3"
  },
  "language_info": {
   "codemirror_mode": {
    "name": "ipython",
    "version": 3
   },
   "file_extension": ".py",
   "mimetype": "text/x-python",
   "name": "python",
   "nbconvert_exporter": "python",
   "pygments_lexer": "ipython3",
   "version": "3.7.3"
  }
 },
 "nbformat": 4,
 "nbformat_minor": 2
}
