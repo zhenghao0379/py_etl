{
 "cells": [
  {
   "cell_type": "code",
   "execution_count": 1,
   "metadata": {},
   "outputs": [
    {
     "name": "stdout",
     "output_type": "stream",
     "text": [
      "importing Jupyter notebook from env.ipynb\n",
      "importing Jupyter notebook from D:\\My work\\Python\\py_etl\\sources\\public_fun.ipynb\n",
      "DATE :  2019-11-30\n",
      "DATETIME :  2019-11-30 11:37:59\n"
     ]
    }
   ],
   "source": [
    "# 定义工作目录\n",
    "import os\n",
    "os.chdir(\"../../..\")\n",
    "\n",
    "# 载入环境文件\n",
    "import Ipynb_importer\n",
    "from env import *"
   ]
  },
  {
   "cell_type": "code",
   "execution_count": 2,
   "metadata": {},
   "outputs": [
    {
     "data": {
      "text/plain": [
       "'D:\\\\My work\\\\Python\\\\py_etl'"
      ]
     },
     "execution_count": 2,
     "metadata": {},
     "output_type": "execute_result"
    }
   ],
   "source": [
    "%pwd"
   ]
  },
  {
   "cell_type": "code",
   "execution_count": 3,
   "metadata": {},
   "outputs": [
    {
     "name": "stdout",
     "output_type": "stream",
     "text": [
      "{'host': '192.168.23.3', 'port': 3306, 'user': 'tinydata', 'password': '3990240zZ.'}\n",
      "sakila\n"
     ]
    }
   ],
   "source": [
    "conn = mysql_on(\"tinydata\",\"sakila\")"
   ]
  },
  {
   "cell_type": "code",
   "execution_count": null,
   "metadata": {},
   "outputs": [],
   "source": [
    "sql = \"select * where day = {DATE} from \"\n",
    "data = pd.read_sql(sql,conn)"
   ]
  },
  {
   "cell_type": "code",
   "execution_count": null,
   "metadata": {},
   "outputs": [],
   "source": []
  }
 ],
 "metadata": {
  "kernelspec": {
   "display_name": "Python 3",
   "language": "python",
   "name": "python3"
  },
  "language_info": {
   "codemirror_mode": {
    "name": "ipython",
    "version": 3
   },
   "file_extension": ".py",
   "mimetype": "text/x-python",
   "name": "python",
   "nbconvert_exporter": "python",
   "pygments_lexer": "ipython3",
   "version": "3.7.3"
  }
 },
 "nbformat": 4,
 "nbformat_minor": 2
}
