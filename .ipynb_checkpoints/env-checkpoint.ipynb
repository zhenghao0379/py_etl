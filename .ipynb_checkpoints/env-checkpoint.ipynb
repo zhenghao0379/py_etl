{
 "cells": [
  {
   "cell_type": "markdown",
   "metadata": {},
   "source": [
    "# 执行环境"
   ]
  },
  {
   "cell_type": "code",
   "execution_count": 1,
   "metadata": {},
   "outputs": [],
   "source": [
    "# 允许载入其他 ipynb 文件\n",
    "import Ipynb_importer"
   ]
  },
  {
   "cell_type": "code",
   "execution_count": 2,
   "metadata": {},
   "outputs": [],
   "source": [
    "# 工具包\n",
    "import numpy as np\n",
    "import pandas as pd\n",
    "import mysql.connector\n",
    "import pymongo\n",
    "import datetime"
   ]
  },
  {
   "cell_type": "code",
   "execution_count": 3,
   "metadata": {},
   "outputs": [
    {
     "name": "stdout",
     "output_type": "stream",
     "text": [
      "importing Jupyter notebook from D:\\My work\\Python\\py_etl\\sources\\public_fun.ipynb\n"
     ]
    }
   ],
   "source": [
    "# 公共函数\n",
    "from sources.public_fun import *"
   ]
  },
  {
   "cell_type": "markdown",
   "metadata": {},
   "source": [
    "# 全局变量"
   ]
  },
  {
   "cell_type": "code",
   "execution_count": 4,
   "metadata": {},
   "outputs": [
    {
     "name": "stdout",
     "output_type": "stream",
     "text": [
      "2019-11-29\n",
      "2019-11-29 17:42:46\n"
     ]
    }
   ],
   "source": [
    "# 时间\n",
    "DATE = datetime.datetime.now().strftime(\"%Y-%m-%d\")\n",
    "print(\"DATE : \",DATE)\n",
    "DATETIME = datetime.datetime.now().strftime(\"%Y-%m-%d %H:%M:%S\")\n",
    "print(\"DATETIME : \",DATETIME)"
   ]
  },
  {
   "cell_type": "code",
   "execution_count": null,
   "metadata": {},
   "outputs": [],
   "source": []
  },
  {
   "cell_type": "markdown",
   "metadata": {},
   "source": [
    "# 数据库连接"
   ]
  },
  {
   "cell_type": "code",
   "execution_count": 34,
   "metadata": {},
   "outputs": [],
   "source": [
    "# 创建链接\n",
    "\n",
    "def mysql_on(name, db_name = \"sakila\"):\n",
    "    # 选择账户\n",
    "    db = pd.read_csv(\"config/db.csv\")\n",
    "    mysql_user = {\n",
    "        \"host\":db.loc[db[\"name\"] == name,\"host\"].item(),\n",
    "        \"port\":db.loc[db[\"name\"] == name,\"port\"].item(),\n",
    "        \"user\":db.loc[db[\"name\"] == name,\"name\"].item(),\n",
    "        \"password\":db.loc[db[\"name\"] == name,\"password\"].item(),\n",
    "    }\n",
    "    print(mysql_user)\n",
    "    print(db_name)\n",
    "    # 选择数据库\n",
    "    conn = mysql.connector.connect(\n",
    "        host=mysql_user[\"host\"],\n",
    "        user=mysql_user[\"user\"],\n",
    "        passwd=mysql_user[\"password\"],\n",
    "        database=db_name\n",
    "    )\n",
    "    return conn"
   ]
  },
  {
   "cell_type": "code",
   "execution_count": null,
   "metadata": {},
   "outputs": [],
   "source": []
  }
 ],
 "metadata": {
  "kernelspec": {
   "display_name": "Python 3",
   "language": "python",
   "name": "python3"
  },
  "language_info": {
   "codemirror_mode": {
    "name": "ipython",
    "version": 3
   },
   "file_extension": ".py",
   "mimetype": "text/x-python",
   "name": "python",
   "nbconvert_exporter": "python",
   "pygments_lexer": "ipython3",
   "version": "3.7.3"
  }
 },
 "nbformat": 4,
 "nbformat_minor": 2
}
